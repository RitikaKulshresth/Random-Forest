{
 "cells": [
  {
   "cell_type": "code",
   "execution_count": 1,
   "id": "5d1b78fc",
   "metadata": {},
   "outputs": [],
   "source": [
    "import os\n",
    "import numpy as np\n",
    "import pandas as pd\n",
    "import matplotlib.pyplot as plt\n",
    "import seaborn as sns\n",
    "import warnings\n",
    "warnings.filterwarnings('ignore')"
   ]
  },
  {
   "cell_type": "code",
   "execution_count": 2,
   "id": "2abc1054",
   "metadata": {},
   "outputs": [],
   "source": [
    "np.random.seed(101)\n",
    "x = np.random.rand(100,1) - 0.5\n",
    "y = 3*x[:,0]**2 + 0.05 * np.random.randn(100)"
   ]
  },
  {
   "cell_type": "code",
   "execution_count": 5,
   "id": "f8437f76",
   "metadata": {},
   "outputs": [
    {
     "data": {
      "text/plain": [
       "array([-0.05153223,  0.07961995,  0.59363396,  0.2989893 ,  0.09485594,\n",
       "        0.35875178,  0.13141056,  0.4758683 ,  0.10448525,  0.36551308,\n",
       "        0.04213786,  0.03868315,  0.27514826,  0.31507201,  0.68211417,\n",
       "        0.16964869,  0.50070541,  0.08358149,  0.05868279,  0.10686293,\n",
       "        0.13905469, -0.06019636,  0.69193763,  0.33763057,  0.22469925,\n",
       "        0.66656756,  0.00335417, -0.0019294 ,  0.12685354,  0.01080624,\n",
       "        0.47185501,  0.29712186,  0.06068565,  0.07910169,  0.56126838,\n",
       "        0.11847314,  0.40798269,  0.36890157,  0.05315487,  0.51602918,\n",
       "        0.52603868,  0.43774265,  0.15115794,  0.37635619,  0.38157432,\n",
       "        0.15240832,  0.0053458 ,  0.35477583,  0.09502748,  0.10634503,\n",
       "        0.10780957,  0.11654234,  0.66191092,  0.18547843,  0.03224899,\n",
       "        0.4443707 ,  0.04320828,  0.31506465,  0.58734613,  0.2816112 ,\n",
       "        0.02181408,  0.43775559,  0.62190701,  0.03515424, -0.00416771,\n",
       "        0.09555182,  0.07312416,  0.41827362,  0.62170791,  0.06666348,\n",
       "        0.24339117,  0.19854359,  0.02053068, -0.05904711,  0.13025145,\n",
       "        0.28017044,  0.09640059, -0.02889269,  0.11537264,  0.48413494,\n",
       "        0.24057423,  0.10579979,  0.11884826,  0.06207009,  0.62301995,\n",
       "        0.16828717,  0.10217321,  0.13921098,  0.47560434,  0.56570668,\n",
       "        0.53783957,  0.00314572,  0.03180813,  0.13186836,  0.76730384,\n",
       "        0.39623219,  0.05626125, -0.04514437,  0.12670989,  0.04488862])"
      ]
     },
     "execution_count": 5,
     "metadata": {},
     "output_type": "execute_result"
    }
   ],
   "source": [
    "y"
   ]
  },
  {
   "cell_type": "code",
   "execution_count": 3,
   "id": "22bf5548",
   "metadata": {},
   "outputs": [
    {
     "data": {
      "text/html": [
       "<div>\n",
       "<style scoped>\n",
       "    .dataframe tbody tr th:only-of-type {\n",
       "        vertical-align: middle;\n",
       "    }\n",
       "\n",
       "    .dataframe tbody tr th {\n",
       "        vertical-align: top;\n",
       "    }\n",
       "\n",
       "    .dataframe thead th {\n",
       "        text-align: right;\n",
       "    }\n",
       "</style>\n",
       "<table border=\"1\" class=\"dataframe\">\n",
       "  <thead>\n",
       "    <tr style=\"text-align: right;\">\n",
       "      <th></th>\n",
       "      <th>x</th>\n",
       "      <th>y</th>\n",
       "    </tr>\n",
       "  </thead>\n",
       "  <tbody>\n",
       "    <tr>\n",
       "      <th>0</th>\n",
       "      <td>0.016399</td>\n",
       "      <td>-0.051532</td>\n",
       "    </tr>\n",
       "    <tr>\n",
       "      <th>1</th>\n",
       "      <td>0.070668</td>\n",
       "      <td>0.079620</td>\n",
       "    </tr>\n",
       "    <tr>\n",
       "      <th>2</th>\n",
       "      <td>-0.471526</td>\n",
       "      <td>0.593634</td>\n",
       "    </tr>\n",
       "    <tr>\n",
       "      <th>3</th>\n",
       "      <td>-0.328478</td>\n",
       "      <td>0.298989</td>\n",
       "    </tr>\n",
       "    <tr>\n",
       "      <th>4</th>\n",
       "      <td>0.185277</td>\n",
       "      <td>0.094856</td>\n",
       "    </tr>\n",
       "    <tr>\n",
       "      <th>...</th>\n",
       "      <td>...</td>\n",
       "      <td>...</td>\n",
       "    </tr>\n",
       "    <tr>\n",
       "      <th>95</th>\n",
       "      <td>0.342219</td>\n",
       "      <td>0.396232</td>\n",
       "    </tr>\n",
       "    <tr>\n",
       "      <th>96</th>\n",
       "      <td>-0.115062</td>\n",
       "      <td>0.056261</td>\n",
       "    </tr>\n",
       "    <tr>\n",
       "      <th>97</th>\n",
       "      <td>0.051666</td>\n",
       "      <td>-0.045144</td>\n",
       "    </tr>\n",
       "    <tr>\n",
       "      <th>98</th>\n",
       "      <td>0.210538</td>\n",
       "      <td>0.126710</td>\n",
       "    </tr>\n",
       "    <tr>\n",
       "      <th>99</th>\n",
       "      <td>0.175279</td>\n",
       "      <td>0.044889</td>\n",
       "    </tr>\n",
       "  </tbody>\n",
       "</table>\n",
       "<p>100 rows × 2 columns</p>\n",
       "</div>"
      ],
      "text/plain": [
       "           x         y\n",
       "0   0.016399 -0.051532\n",
       "1   0.070668  0.079620\n",
       "2  -0.471526  0.593634\n",
       "3  -0.328478  0.298989\n",
       "4   0.185277  0.094856\n",
       "..       ...       ...\n",
       "95  0.342219  0.396232\n",
       "96 -0.115062  0.056261\n",
       "97  0.051666 -0.045144\n",
       "98  0.210538  0.126710\n",
       "99  0.175279  0.044889\n",
       "\n",
       "[100 rows x 2 columns]"
      ]
     },
     "execution_count": 3,
     "metadata": {},
     "output_type": "execute_result"
    }
   ],
   "source": [
    "df = pd.DataFrame()\n",
    "df['x'] = x.reshape(100)\n",
    "df['y'] = y\n",
    "df"
   ]
  },
  {
   "cell_type": "code",
   "execution_count": 6,
   "id": "19934e2d",
   "metadata": {},
   "outputs": [
    {
     "data": {
      "text/plain": [
       "Text(0.5, 1.0, 'X vs Y')"
      ]
     },
     "execution_count": 6,
     "metadata": {},
     "output_type": "execute_result"
    },
    {
     "data": {
      "image/png": "[encoded data removed]",
      "text/plain": [
       "<Figure size 640x480 with 1 Axes>"
      ]
     },
     "metadata": {},
     "output_type": "display_data"
    }
   ],
   "source": [
    "plt.scatter(df['x'], df['y'])\n",
    "plt.title(\"X vs Y\")"
   ]
  },
  {
   "cell_type": "code",
   "execution_count": 7,
   "id": "6588e601",
   "metadata": {},
   "outputs": [],
   "source": [
    "df['pred1'] = df['y'].mean()"
   ]
  },
  {
   "cell_type": "code",
   "execution_count": 8,
   "id": "2e033866",
   "metadata": {},
   "outputs": [
    {
     "data": {
      "text/html": [
       "<div>\n",
       "<style scoped>\n",
       "    .dataframe tbody tr th:only-of-type {\n",
       "        vertical-align: middle;\n",
       "    }\n",
       "\n",
       "    .dataframe tbody tr th {\n",
       "        vertical-align: top;\n",
       "    }\n",
       "\n",
       "    .dataframe thead th {\n",
       "        text-align: right;\n",
       "    }\n",
       "</style>\n",
       "<table border=\"1\" class=\"dataframe\">\n",
       "  <thead>\n",
       "    <tr style=\"text-align: right;\">\n",
       "      <th></th>\n",
       "      <th>x</th>\n",
       "      <th>y</th>\n",
       "      <th>pred1</th>\n",
       "    </tr>\n",
       "  </thead>\n",
       "  <tbody>\n",
       "    <tr>\n",
       "      <th>0</th>\n",
       "      <td>0.016399</td>\n",
       "      <td>-0.051532</td>\n",
       "      <td>0.236808</td>\n",
       "    </tr>\n",
       "    <tr>\n",
       "      <th>1</th>\n",
       "      <td>0.070668</td>\n",
       "      <td>0.079620</td>\n",
       "      <td>0.236808</td>\n",
       "    </tr>\n",
       "    <tr>\n",
       "      <th>2</th>\n",
       "      <td>-0.471526</td>\n",
       "      <td>0.593634</td>\n",
       "      <td>0.236808</td>\n",
       "    </tr>\n",
       "    <tr>\n",
       "      <th>3</th>\n",
       "      <td>-0.328478</td>\n",
       "      <td>0.298989</td>\n",
       "      <td>0.236808</td>\n",
       "    </tr>\n",
       "    <tr>\n",
       "      <th>4</th>\n",
       "      <td>0.185277</td>\n",
       "      <td>0.094856</td>\n",
       "      <td>0.236808</td>\n",
       "    </tr>\n",
       "  </tbody>\n",
       "</table>\n",
       "</div>"
      ],
      "text/plain": [
       "          x         y     pred1\n",
       "0  0.016399 -0.051532  0.236808\n",
       "1  0.070668  0.079620  0.236808\n",
       "2 -0.471526  0.593634  0.236808\n",
       "3 -0.328478  0.298989  0.236808\n",
       "4  0.185277  0.094856  0.236808"
      ]
     },
     "execution_count": 8,
     "metadata": {},
     "output_type": "execute_result"
    }
   ],
   "source": [
    "df.head()"
   ]
  },
  {
   "cell_type": "code",
   "execution_count": 9,
   "id": "19523e91",
   "metadata": {},
   "outputs": [],
   "source": [
    "df['res1'] = df['y'] - df['pred1']"
   ]
  },
  {
   "cell_type": "code",
   "execution_count": 10,
   "id": "3dccf3c9",
   "metadata": {},
   "outputs": [
    {
     "data": {
      "text/html": [
       "<div>\n",
       "<style scoped>\n",
       "    .dataframe tbody tr th:only-of-type {\n",
       "        vertical-align: middle;\n",
       "    }\n",
       "\n",
       "    .dataframe tbody tr th {\n",
       "        vertical-align: top;\n",
       "    }\n",
       "\n",
       "    .dataframe thead th {\n",
       "        text-align: right;\n",
       "    }\n",
       "</style>\n",
       "<table border=\"1\" class=\"dataframe\">\n",
       "  <thead>\n",
       "    <tr style=\"text-align: right;\">\n",
       "      <th></th>\n",
       "      <th>x</th>\n",
       "      <th>y</th>\n",
       "      <th>pred1</th>\n",
       "      <th>res1</th>\n",
       "    </tr>\n",
       "  </thead>\n",
       "  <tbody>\n",
       "    <tr>\n",
       "      <th>0</th>\n",
       "      <td>0.016399</td>\n",
       "      <td>-0.051532</td>\n",
       "      <td>0.236808</td>\n",
       "      <td>-0.288340</td>\n",
       "    </tr>\n",
       "    <tr>\n",
       "      <th>1</th>\n",
       "      <td>0.070668</td>\n",
       "      <td>0.079620</td>\n",
       "      <td>0.236808</td>\n",
       "      <td>-0.157188</td>\n",
       "    </tr>\n",
       "    <tr>\n",
       "      <th>2</th>\n",
       "      <td>-0.471526</td>\n",
       "      <td>0.593634</td>\n",
       "      <td>0.236808</td>\n",
       "      <td>0.356826</td>\n",
       "    </tr>\n",
       "    <tr>\n",
       "      <th>3</th>\n",
       "      <td>-0.328478</td>\n",
       "      <td>0.298989</td>\n",
       "      <td>0.236808</td>\n",
       "      <td>0.062181</td>\n",
       "    </tr>\n",
       "    <tr>\n",
       "      <th>4</th>\n",
       "      <td>0.185277</td>\n",
       "      <td>0.094856</td>\n",
       "      <td>0.236808</td>\n",
       "      <td>-0.141952</td>\n",
       "    </tr>\n",
       "  </tbody>\n",
       "</table>\n",
       "</div>"
      ],
      "text/plain": [
       "          x         y     pred1      res1\n",
       "0  0.016399 -0.051532  0.236808 -0.288340\n",
       "1  0.070668  0.079620  0.236808 -0.157188\n",
       "2 -0.471526  0.593634  0.236808  0.356826\n",
       "3 -0.328478  0.298989  0.236808  0.062181\n",
       "4  0.185277  0.094856  0.236808 -0.141952"
      ]
     },
     "execution_count": 10,
     "metadata": {},
     "output_type": "execute_result"
    }
   ],
   "source": [
    "df.head()"
   ]
  },
  {
   "cell_type": "code",
   "execution_count": 11,
   "id": "a6d4d69d",
   "metadata": {},
   "outputs": [
    {
     "data": {
      "text/plain": [
       "Text(0.5, 1.0, 'X vs Y')"
      ]
     },
     "execution_count": 11,
     "metadata": {},
     "output_type": "execute_result"
    },
    {
     "data": {
      "image/png": "[encoded data removed]",
      "text/plain": [
       "<Figure size 640x480 with 1 Axes>"
      ]
     },
     "metadata": {},
     "output_type": "display_data"
    }
   ],
   "source": [
    "plt.scatter(df['x'], df['y'])\n",
    "plt.plot(df['x'], df['pred1'], color='red')\n",
    "plt.title(\"X vs Y\")"
   ]
  },
  {
   "cell_type": "code",
   "execution_count": 13,
   "id": "6fdd26b9",
   "metadata": {},
   "outputs": [
    {
     "data": {
      "text/plain": [
       "DecisionTreeRegressor(max_leaf_nodes=8)"
      ]
     },
     "execution_count": 13,
     "metadata": {},
     "output_type": "execute_result"
    }
   ],
   "source": [
    "# Build DT model\n",
    "from sklearn.tree import DecisionTreeRegressor\n",
    "tree1 = DecisionTreeRegressor(max_leaf_nodes=8)\n",
    "tree1.fit(df['x'].values.reshape(100,1), df['res1'].values)"
   ]
  },
  {
   "cell_type": "code",
   "execution_count": 14,
   "id": "69f76ec1",
   "metadata": {},
   "outputs": [
    {
     "data": {
      "image/png": "[encoded data removed]",
      "text/plain": [
       "<Figure size 640x480 with 1 Axes>"
      ]
     },
     "metadata": {},
     "output_type": "display_data"
    }
   ],
   "source": [
    "from sklearn.tree import plot_tree\n",
    "plot_tree(tree1)\n",
    "plt.show()"
   ]
  },
  {
   "cell_type": "code",
   "execution_count": 15,
   "id": "f3fe1fd4",
   "metadata": {},
   "outputs": [
    {
     "data": {
      "text/plain": [
       "array([-0.5       , -0.49799599, -0.49599198, -0.49398798, -0.49198397,\n",
       "       -0.48997996, -0.48797595, -0.48597194, -0.48396794, -0.48196393,\n",
       "       -0.47995992, -0.47795591, -0.4759519 , -0.4739479 , -0.47194389,\n",
       "       -0.46993988, -0.46793587, -0.46593186, -0.46392786, -0.46192385,\n",
       "       -0.45991984, -0.45791583, -0.45591182, -0.45390782, -0.45190381,\n",
       "       -0.4498998 , -0.44789579, -0.44589178, -0.44388778, -0.44188377,\n",
       "       -0.43987976, -0.43787575, -0.43587174, -0.43386774, -0.43186373,\n",
       "       -0.42985972, -0.42785571, -0.4258517 , -0.4238477 , -0.42184369,\n",
       "       -0.41983968, -0.41783567, -0.41583166, -0.41382766, -0.41182365,\n",
       "       -0.40981964, -0.40781563, -0.40581162, -0.40380762, -0.40180361,\n",
       "       -0.3997996 , -0.39779559, -0.39579158, -0.39378758, -0.39178357,\n",
       "       -0.38977956, -0.38777555, -0.38577154, -0.38376754, -0.38176353,\n",
       "       -0.37975952, -0.37775551, -0.3757515 , -0.37374749, -0.37174349,\n",
       "       -0.36973948, -0.36773547, -0.36573146, -0.36372745, -0.36172345,\n",
       "       -0.35971944, -0.35771543, -0.35571142, -0.35370741, -0.35170341,\n",
       "       -0.3496994 , -0.34769539, -0.34569138, -0.34368737, -0.34168337,\n",
       "       -0.33967936, -0.33767535, -0.33567134, -0.33366733, -0.33166333,\n",
       "       -0.32965932, -0.32765531, -0.3256513 , -0.32364729, -0.32164329,\n",
       "       -0.31963928, -0.31763527, -0.31563126, -0.31362725, -0.31162325,\n",
       "       -0.30961924, -0.30761523, -0.30561122, -0.30360721, -0.30160321,\n",
       "       -0.2995992 , -0.29759519, -0.29559118, -0.29358717, -0.29158317,\n",
       "       -0.28957916, -0.28757515, -0.28557114, -0.28356713, -0.28156313,\n",
       "       -0.27955912, -0.27755511, -0.2755511 , -0.27354709, -0.27154309,\n",
       "       -0.26953908, -0.26753507, -0.26553106, -0.26352705, -0.26152305,\n",
       "       -0.25951904, -0.25751503, -0.25551102, -0.25350701, -0.25150301,\n",
       "       -0.249499  , -0.24749499, -0.24549098, -0.24348697, -0.24148297,\n",
       "       -0.23947896, -0.23747495, -0.23547094, -0.23346693, -0.23146293,\n",
       "       -0.22945892, -0.22745491, -0.2254509 , -0.22344689, -0.22144289,\n",
       "       -0.21943888, -0.21743487, -0.21543086, -0.21342685, -0.21142285,\n",
       "       -0.20941884, -0.20741483, -0.20541082, -0.20340681, -0.20140281,\n",
       "       -0.1993988 , -0.19739479, -0.19539078, -0.19338677, -0.19138277,\n",
       "       -0.18937876, -0.18737475, -0.18537074, -0.18336673, -0.18136273,\n",
       "       -0.17935872, -0.17735471, -0.1753507 , -0.17334669, -0.17134269,\n",
       "       -0.16933868, -0.16733467, -0.16533066, -0.16332665, -0.16132265,\n",
       "       -0.15931864, -0.15731463, -0.15531062, -0.15330661, -0.15130261,\n",
       "       -0.1492986 , -0.14729459, -0.14529058, -0.14328657, -0.14128257,\n",
       "       -0.13927856, -0.13727455, -0.13527054, -0.13326653, -0.13126253,\n",
       "       -0.12925852, -0.12725451, -0.1252505 , -0.12324649, -0.12124248,\n",
       "       -0.11923848, -0.11723447, -0.11523046, -0.11322645, -0.11122244,\n",
       "       -0.10921844, -0.10721443, -0.10521042, -0.10320641, -0.1012024 ,\n",
       "       -0.0991984 , -0.09719439, -0.09519038, -0.09318637, -0.09118236,\n",
       "       -0.08917836, -0.08717435, -0.08517034, -0.08316633, -0.08116232,\n",
       "       -0.07915832, -0.07715431, -0.0751503 , -0.07314629, -0.07114228,\n",
       "       -0.06913828, -0.06713427, -0.06513026, -0.06312625, -0.06112224,\n",
       "       -0.05911824, -0.05711423, -0.05511022, -0.05310621, -0.0511022 ,\n",
       "       -0.0490982 , -0.04709419, -0.04509018, -0.04308617, -0.04108216,\n",
       "       -0.03907816, -0.03707415, -0.03507014, -0.03306613, -0.03106212,\n",
       "       -0.02905812, -0.02705411, -0.0250501 , -0.02304609, -0.02104208,\n",
       "       -0.01903808, -0.01703407, -0.01503006, -0.01302605, -0.01102204,\n",
       "       -0.00901804, -0.00701403, -0.00501002, -0.00300601, -0.001002  ,\n",
       "        0.001002  ,  0.00300601,  0.00501002,  0.00701403,  0.00901804,\n",
       "        0.01102204,  0.01302605,  0.01503006,  0.01703407,  0.01903808,\n",
       "        0.02104208,  0.02304609,  0.0250501 ,  0.02705411,  0.02905812,\n",
       "        0.03106212,  0.03306613,  0.03507014,  0.03707415,  0.03907816,\n",
       "        0.04108216,  0.04308617,  0.04509018,  0.04709419,  0.0490982 ,\n",
       "        0.0511022 ,  0.05310621,  0.05511022,  0.05711423,  0.05911824,\n",
       "        0.06112224,  0.06312625,  0.06513026,  0.06713427,  0.06913828,\n",
       "        0.07114228,  0.07314629,  0.0751503 ,  0.07715431,  0.07915832,\n",
       "        0.08116232,  0.08316633,  0.08517034,  0.08717435,  0.08917836,\n",
       "        0.09118236,  0.09318637,  0.09519038,  0.09719439,  0.0991984 ,\n",
       "        0.1012024 ,  0.10320641,  0.10521042,  0.10721443,  0.10921844,\n",
       "        0.11122244,  0.11322645,  0.11523046,  0.11723447,  0.11923848,\n",
       "        0.12124248,  0.12324649,  0.1252505 ,  0.12725451,  0.12925852,\n",
       "        0.13126253,  0.13326653,  0.13527054,  0.13727455,  0.13927856,\n",
       "        0.14128257,  0.14328657,  0.14529058,  0.14729459,  0.1492986 ,\n",
       "        0.15130261,  0.15330661,  0.15531062,  0.15731463,  0.15931864,\n",
       "        0.16132265,  0.16332665,  0.16533066,  0.16733467,  0.16933868,\n",
       "        0.17134269,  0.17334669,  0.1753507 ,  0.17735471,  0.17935872,\n",
       "        0.18136273,  0.18336673,  0.18537074,  0.18737475,  0.18937876,\n",
       "        0.19138277,  0.19338677,  0.19539078,  0.19739479,  0.1993988 ,\n",
       "        0.20140281,  0.20340681,  0.20541082,  0.20741483,  0.20941884,\n",
       "        0.21142285,  0.21342685,  0.21543086,  0.21743487,  0.21943888,\n",
       "        0.22144289,  0.22344689,  0.2254509 ,  0.22745491,  0.22945892,\n",
       "        0.23146293,  0.23346693,  0.23547094,  0.23747495,  0.23947896,\n",
       "        0.24148297,  0.24348697,  0.24549098,  0.24749499,  0.249499  ,\n",
       "        0.25150301,  0.25350701,  0.25551102,  0.25751503,  0.25951904,\n",
       "        0.26152305,  0.26352705,  0.26553106,  0.26753507,  0.26953908,\n",
       "        0.27154309,  0.27354709,  0.2755511 ,  0.27755511,  0.27955912,\n",
       "        0.28156313,  0.28356713,  0.28557114,  0.28757515,  0.28957916,\n",
       "        0.29158317,  0.29358717,  0.29559118,  0.29759519,  0.2995992 ,\n",
       "        0.30160321,  0.30360721,  0.30561122,  0.30761523,  0.30961924,\n",
       "        0.31162325,  0.31362725,  0.31563126,  0.31763527,  0.31963928,\n",
       "        0.32164329,  0.32364729,  0.3256513 ,  0.32765531,  0.32965932,\n",
       "        0.33166333,  0.33366733,  0.33567134,  0.33767535,  0.33967936,\n",
       "        0.34168337,  0.34368737,  0.34569138,  0.34769539,  0.3496994 ,\n",
       "        0.35170341,  0.35370741,  0.35571142,  0.35771543,  0.35971944,\n",
       "        0.36172345,  0.36372745,  0.36573146,  0.36773547,  0.36973948,\n",
       "        0.37174349,  0.37374749,  0.3757515 ,  0.37775551,  0.37975952,\n",
       "        0.38176353,  0.38376754,  0.38577154,  0.38777555,  0.38977956,\n",
       "        0.39178357,  0.39378758,  0.39579158,  0.39779559,  0.3997996 ,\n",
       "        0.40180361,  0.40380762,  0.40581162,  0.40781563,  0.40981964,\n",
       "        0.41182365,  0.41382766,  0.41583166,  0.41783567,  0.41983968,\n",
       "        0.42184369,  0.4238477 ,  0.4258517 ,  0.42785571,  0.42985972,\n",
       "        0.43186373,  0.43386774,  0.43587174,  0.43787575,  0.43987976,\n",
       "        0.44188377,  0.44388778,  0.44589178,  0.44789579,  0.4498998 ,\n",
       "        0.45190381,  0.45390782,  0.45591182,  0.45791583,  0.45991984,\n",
       "        0.46192385,  0.46392786,  0.46593186,  0.46793587,  0.46993988,\n",
       "        0.47194389,  0.4739479 ,  0.4759519 ,  0.47795591,  0.47995992,\n",
       "        0.48196393,  0.48396794,  0.48597194,  0.48797595,  0.48997996,\n",
       "        0.49198397,  0.49398798,  0.49599198,  0.49799599,  0.5       ])"
      ]
     },
     "execution_count": 15,
     "metadata": {},
     "output_type": "execute_result"
    }
   ],
   "source": [
    "x_test = np.linspace(-0.5,0.5,500)\n",
    "x_test"
   ]
  },
  {
   "cell_type": "code",
   "execution_count": 16,
   "id": "393cb9c0",
   "metadata": {},
   "outputs": [],
   "source": [
    "y_pred = 0.236 + tree1.predict(x_test.reshape(500,1))"
   ]
  },
  {
   "cell_type": "code",
   "execution_count": 17,
   "id": "ec4c372d",
   "metadata": {},
   "outputs": [
    {
     "data": {
      "text/plain": [
       "<matplotlib.collections.PathCollection at 0x1e69636d520>"
      ]
     },
     "execution_count": 17,
     "metadata": {},
     "output_type": "execute_result"
    },
    {
     "data": {
      "image/png": "[encoded data removed]",
      "text/plain": [
       "<Figure size 1400x500 with 1 Axes>"
      ]
     },
     "metadata": {},
     "output_type": "display_data"
    }
   ],
   "source": [
    "plt.figure(figsize=(14,5))\n",
    "plt.subplot(121)\n",
    "plt.plot(x_test, y_pred, linewidth=2, color='red')\n",
    "plt.scatter(df['x'], df['y'])"
   ]
  },
  {
   "cell_type": "code",
   "execution_count": 18,
   "id": "01e66524",
   "metadata": {},
   "outputs": [
    {
     "data": {
      "text/html": [
       "<div>\n",
       "<style scoped>\n",
       "    .dataframe tbody tr th:only-of-type {\n",
       "        vertical-align: middle;\n",
       "    }\n",
       "\n",
       "    .dataframe tbody tr th {\n",
       "        vertical-align: top;\n",
       "    }\n",
       "\n",
       "    .dataframe thead th {\n",
       "        text-align: right;\n",
       "    }\n",
       "</style>\n",
       "<table border=\"1\" class=\"dataframe\">\n",
       "  <thead>\n",
       "    <tr style=\"text-align: right;\">\n",
       "      <th></th>\n",
       "      <th>x</th>\n",
       "      <th>y</th>\n",
       "      <th>pred1</th>\n",
       "      <th>res1</th>\n",
       "      <th>pred2</th>\n",
       "    </tr>\n",
       "  </thead>\n",
       "  <tbody>\n",
       "    <tr>\n",
       "      <th>0</th>\n",
       "      <td>0.016399</td>\n",
       "      <td>-0.051532</td>\n",
       "      <td>0.236808</td>\n",
       "      <td>-0.288340</td>\n",
       "      <td>0.061133</td>\n",
       "    </tr>\n",
       "    <tr>\n",
       "      <th>1</th>\n",
       "      <td>0.070668</td>\n",
       "      <td>0.079620</td>\n",
       "      <td>0.236808</td>\n",
       "      <td>-0.157188</td>\n",
       "      <td>0.061133</td>\n",
       "    </tr>\n",
       "    <tr>\n",
       "      <th>2</th>\n",
       "      <td>-0.471526</td>\n",
       "      <td>0.593634</td>\n",
       "      <td>0.236808</td>\n",
       "      <td>0.356826</td>\n",
       "      <td>0.627684</td>\n",
       "    </tr>\n",
       "    <tr>\n",
       "      <th>3</th>\n",
       "      <td>-0.328478</td>\n",
       "      <td>0.298989</td>\n",
       "      <td>0.236808</td>\n",
       "      <td>0.062181</td>\n",
       "      <td>0.297689</td>\n",
       "    </tr>\n",
       "    <tr>\n",
       "      <th>4</th>\n",
       "      <td>0.185277</td>\n",
       "      <td>0.094856</td>\n",
       "      <td>0.236808</td>\n",
       "      <td>-0.141952</td>\n",
       "      <td>0.061133</td>\n",
       "    </tr>\n",
       "  </tbody>\n",
       "</table>\n",
       "</div>"
      ],
      "text/plain": [
       "          x         y     pred1      res1     pred2\n",
       "0  0.016399 -0.051532  0.236808 -0.288340  0.061133\n",
       "1  0.070668  0.079620  0.236808 -0.157188  0.061133\n",
       "2 -0.471526  0.593634  0.236808  0.356826  0.627684\n",
       "3 -0.328478  0.298989  0.236808  0.062181  0.297689\n",
       "4  0.185277  0.094856  0.236808 -0.141952  0.061133"
      ]
     },
     "execution_count": 18,
     "metadata": {},
     "output_type": "execute_result"
    }
   ],
   "source": [
    "df['pred2'] = 0.236 + tree1.predict(df['x'].values.reshape(100,1))\n",
    "df.head()"
   ]
  },
  {
   "cell_type": "code",
   "execution_count": 19,
   "id": "266fb9a9",
   "metadata": {},
   "outputs": [],
   "source": [
    "df['res2'] = df['y'] - df['pred2']"
   ]
  },
  {
   "cell_type": "code",
   "execution_count": 20,
   "id": "5cb0d23d",
   "metadata": {},
   "outputs": [
    {
     "data": {
      "text/html": [
       "<div>\n",
       "<style scoped>\n",
       "    .dataframe tbody tr th:only-of-type {\n",
       "        vertical-align: middle;\n",
       "    }\n",
       "\n",
       "    .dataframe tbody tr th {\n",
       "        vertical-align: top;\n",
       "    }\n",
       "\n",
       "    .dataframe thead th {\n",
       "        text-align: right;\n",
       "    }\n",
       "</style>\n",
       "<table border=\"1\" class=\"dataframe\">\n",
       "  <thead>\n",
       "    <tr style=\"text-align: right;\">\n",
       "      <th></th>\n",
       "      <th>x</th>\n",
       "      <th>y</th>\n",
       "      <th>pred1</th>\n",
       "      <th>res1</th>\n",
       "      <th>pred2</th>\n",
       "      <th>res2</th>\n",
       "    </tr>\n",
       "  </thead>\n",
       "  <tbody>\n",
       "    <tr>\n",
       "      <th>0</th>\n",
       "      <td>0.016399</td>\n",
       "      <td>-0.051532</td>\n",
       "      <td>0.236808</td>\n",
       "      <td>-0.288340</td>\n",
       "      <td>0.061133</td>\n",
       "      <td>-0.112665</td>\n",
       "    </tr>\n",
       "    <tr>\n",
       "      <th>1</th>\n",
       "      <td>0.070668</td>\n",
       "      <td>0.079620</td>\n",
       "      <td>0.236808</td>\n",
       "      <td>-0.157188</td>\n",
       "      <td>0.061133</td>\n",
       "      <td>0.018487</td>\n",
       "    </tr>\n",
       "    <tr>\n",
       "      <th>2</th>\n",
       "      <td>-0.471526</td>\n",
       "      <td>0.593634</td>\n",
       "      <td>0.236808</td>\n",
       "      <td>0.356826</td>\n",
       "      <td>0.627684</td>\n",
       "      <td>-0.034050</td>\n",
       "    </tr>\n",
       "    <tr>\n",
       "      <th>3</th>\n",
       "      <td>-0.328478</td>\n",
       "      <td>0.298989</td>\n",
       "      <td>0.236808</td>\n",
       "      <td>0.062181</td>\n",
       "      <td>0.297689</td>\n",
       "      <td>0.001301</td>\n",
       "    </tr>\n",
       "    <tr>\n",
       "      <th>4</th>\n",
       "      <td>0.185277</td>\n",
       "      <td>0.094856</td>\n",
       "      <td>0.236808</td>\n",
       "      <td>-0.141952</td>\n",
       "      <td>0.061133</td>\n",
       "      <td>0.033723</td>\n",
       "    </tr>\n",
       "  </tbody>\n",
       "</table>\n",
       "</div>"
      ],
      "text/plain": [
       "          x         y     pred1      res1     pred2      res2\n",
       "0  0.016399 -0.051532  0.236808 -0.288340  0.061133 -0.112665\n",
       "1  0.070668  0.079620  0.236808 -0.157188  0.061133  0.018487\n",
       "2 -0.471526  0.593634  0.236808  0.356826  0.627684 -0.034050\n",
       "3 -0.328478  0.298989  0.236808  0.062181  0.297689  0.001301\n",
       "4  0.185277  0.094856  0.236808 -0.141952  0.061133  0.033723"
      ]
     },
     "execution_count": 20,
     "metadata": {},
     "output_type": "execute_result"
    }
   ],
   "source": [
    "df.head()"
   ]
  },
  {
   "cell_type": "code",
   "execution_count": 21,
   "id": "4caf3d3e",
   "metadata": {},
   "outputs": [
    {
     "data": {
      "text/plain": [
       "DecisionTreeRegressor(max_leaf_nodes=8)"
      ]
     },
     "execution_count": 21,
     "metadata": {},
     "output_type": "execute_result"
    }
   ],
   "source": [
    "dtree2 = DecisionTreeRegressor(max_leaf_nodes=8)\n",
    "dtree2.fit(df['x'].values.reshape(100,1), df['res2'].values)"
   ]
  },
  {
   "cell_type": "code",
   "execution_count": 22,
   "id": "98569435",
   "metadata": {},
   "outputs": [],
   "source": [
    "y_pred = 0.236 + sum(regressor.predict(x_test.reshape(-1,1)) for regressor in [tree1, dtree2] )"
   ]
  },
  {
   "cell_type": "code",
   "execution_count": 23,
   "id": "ddbd00d9",
   "metadata": {},
   "outputs": [
    {
     "data": {
      "image/png": "[encoded data removed]",
      "text/plain": [
       "<Figure size 1400x500 with 1 Axes>"
      ]
     },
     "metadata": {},
     "output_type": "display_data"
    }
   ],
   "source": [
    "plt.figure(figsize=(14,5))\n",
    "plt.subplot(121)\n",
    "plt.plot(x_test, y_pred, linewidth=2, color='red')\n",
    "plt.scatter(df['x'], df['y'])\n",
    "plt.title('X vs Y')\n",
    "plt.show()"
   ]
  },
  {
   "cell_type": "code",
   "execution_count": null,
   "id": "fd49379d",
   "metadata": {},
   "outputs": [],
   "source": []
  },
  {
   "cell_type": "code",
   "execution_count": null,
   "id": "34b0d48a",
   "metadata": {},
   "outputs": [],
   "source": []
  },
  {
   "cell_type": "code",
   "execution_count": null,
   "id": "a00c756a",
   "metadata": {},
   "outputs": [],
   "source": []
  },
  {
   "cell_type": "code",
   "execution_count": null,
   "id": "8ed6cf59",
   "metadata": {},
   "outputs": [],
   "source": []
  },
  {
   "cell_type": "code",
   "execution_count": null,
   "id": "480a0bbd",
   "metadata": {},
   "outputs": [],
   "source": []
  }
 ],
 "metadata": {
  "kernelspec": {
   "display_name": "Python 3 (ipykernel)",
   "language": "python",
   "name": "python3"
  },
  "language_info": {
   "codemirror_mode": {
    "name": "ipython",
    "version": 3
   },
   "file_extension": ".py",
   "mimetype": "text/x-python",
   "name": "python",
   "nbconvert_exporter": "python",
   "pygments_lexer": "ipython3",
   "version": "3.12.4"
  }
 },
 "nbformat": 4,
 "nbformat_minor": 5
}
